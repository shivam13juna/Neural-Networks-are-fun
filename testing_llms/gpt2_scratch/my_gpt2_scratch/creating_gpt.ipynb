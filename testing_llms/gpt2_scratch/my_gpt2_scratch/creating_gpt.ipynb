{
 "cells": [
  {
   "cell_type": "code",
   "execution_count": 5,
   "id": "0b52a783",
   "metadata": {},
   "outputs": [],
   "source": [
    "import math\n",
    "import torch\n",
    "import torch.nn as nn\n",
    "import torch.nn.functional as F\n",
    "\n",
    "\n",
    "from dataclasses import dataclass"
   ]
  },
  {
   "cell_type": "markdown",
   "id": "8640b019",
   "metadata": {
    "vscode": {
     "languageId": "powershell"
    }
   },
   "source": [
    "@dataclass\n",
    "class GPTConfig:\n",
    "    block_size: int = 1024 # max sequence length\n",
    "    vocab_size: int = 50257 # number of tokens: 50,000 BPE merges + 256 bytes tokens + 1 <|endoftext|> token\n",
    "    n_layer: int = 12 # number of layers\n",
    "    n_head: int = 12 # number of heads\n",
    "    n_embd: int = 768 # embedding dimension\n",
    "\n",
    "\n",
    "ins = GPTConfig()\n",
    "\n",
    "print(ins)"
   ]
  },
  {
   "cell_type": "code",
   "execution_count": 14,
   "id": "00d98b0e",
   "metadata": {},
   "outputs": [
    {
     "name": "stdout",
     "output_type": "stream",
     "text": [
      "Labrador\n",
      "Labrador\n"
     ]
    }
   ],
   "source": [
    "class Dog:\n",
    "    breed = \"Labrador\"\n",
    "\n",
    "    def __init__(self, name):\n",
    "        self.name = name\n",
    "\n",
    "    @classmethod\n",
    "    def change_breed(cls, new_breed):\n",
    "        cls.breed = new_breed\n",
    "\n",
    "\n",
    "d1 = Dog(\"Buddy\")\n",
    "d2 = Dog(\"Max\")\n",
    "\n",
    "print(d1.breed)  # Output: Labrador\n",
    "print(d2.breed)  # Output: Labrador"
   ]
  },
  {
   "cell_type": "code",
   "execution_count": 15,
   "id": "891cd520",
   "metadata": {},
   "outputs": [
    {
     "name": "stdout",
     "output_type": "stream",
     "text": [
      "Golden Retriever\n",
      "Labrador\n"
     ]
    }
   ],
   "source": [
    "d1.breed = \"Golden Retriever\"  # This won't change the class variable\n",
    "print(d1.breed)  # Output: Golden Retriever\n",
    "print(d2.breed)  # Output: Labrador"
   ]
  },
  {
   "cell_type": "code",
   "execution_count": 16,
   "id": "0c1c08c3",
   "metadata": {},
   "outputs": [
    {
     "name": "stdout",
     "output_type": "stream",
     "text": [
      "Golden Retriever\n",
      "Great Dane\n"
     ]
    }
   ],
   "source": [
    "d1.change_breed(\"Great Dane\")  # This will change the class variable\n",
    "\n",
    "print(d1.breed)  # Output: Golden Retriever\n",
    "print(d2.breed)  # Output: Golden Retriever"
   ]
  },
  {
   "cell_type": "code",
   "execution_count": 17,
   "id": "1249cca1",
   "metadata": {},
   "outputs": [
    {
     "name": "stdout",
     "output_type": "stream",
     "text": [
      "Golden Retriever\n",
      "Bulldog\n"
     ]
    }
   ],
   "source": [
    "Dog.change_breed(\"Bulldog\")\n",
    "print(d1.breed)  # Output: Bulldog\n",
    "print(d2.breed)  # Output: Bulldog"
   ]
  },
  {
   "cell_type": "markdown",
   "id": "16168131",
   "metadata": {},
   "source": [
    "| Situation                                     | Use                 |\n",
    "|----------------------------------------------|---------------------|\n",
    "| You need access to instance (`self`)         | Instance method     |\n",
    "| You need access to class (`cls`)             | Class method        |\n",
    "| You need neither class nor instance context  | Static method       |\n",
    "| You're writing a helper function             | Static method       |\n",
    "| You’re writing an alternate constructor      | Class method        |\n",
    "| You’re modifying class-wide state            | Class method        |"
   ]
  },
  {
   "cell_type": "markdown",
   "id": "76778b19",
   "metadata": {},
   "source": [
    "\n",
    "\n"
   ]
  },
  {
   "cell_type": "code",
   "execution_count": 20,
   "id": "9bba95e6",
   "metadata": {},
   "outputs": [
    {
     "name": "stdout",
     "output_type": "stream",
     "text": [
      "<class '__main__.Animal'>\n",
      "<class '__main__.Dog'>\n",
      "Tiger\n",
      "Beagle\n"
     ]
    }
   ],
   "source": [
    "class Animal:\n",
    "    def __init__(self, name):\n",
    "        self.name = name\n",
    "\n",
    "    @classmethod\n",
    "    def from_species(cls, species_name):\n",
    "        return cls(name=species_name)\n",
    "\n",
    "class Dog(Animal):\n",
    "    pass\n",
    "\n",
    "a = Animal.from_species(\"Tiger\")\n",
    "d = Dog.from_species(\"Beagle\")\n",
    "\n",
    "print(type(a))  # Animal\n",
    "print(type(d))  # Dog ✅\n",
    "\n",
    "print(a.name)  # Tiger\n",
    "print(d.name)  # Beagle"
   ]
  }
 ],
 "metadata": {
  "kernelspec": {
   "display_name": "appy",
   "language": "python",
   "name": "python3"
  },
  "language_info": {
   "codemirror_mode": {
    "name": "ipython",
    "version": 3
   },
   "file_extension": ".py",
   "mimetype": "text/x-python",
   "name": "python",
   "nbconvert_exporter": "python",
   "pygments_lexer": "ipython3",
   "version": "3.9.6"
  }
 },
 "nbformat": 4,
 "nbformat_minor": 5
}
